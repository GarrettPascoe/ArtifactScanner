{
 "cells": [
  {
   "cell_type": "code",
   "execution_count": 10,
   "metadata": {},
   "outputs": [],
   "source": [
    "import cv2\n",
    "import numpy as np"
   ]
  },
  {
   "cell_type": "code",
   "execution_count": 11,
   "metadata": {},
   "outputs": [],
   "source": [
    "def getPicture():\n",
    "\n",
    "    cv2.namedWindow(\"preview\")\n",
    "    cam = cv2.VideoCapture(1)\n",
    "\n",
    "    result, image = cam.read()\n",
    "    \n",
    "    # Bounding Box\n",
    "    rectStart1 =  (203, 40)\n",
    "    rectEnd1 = (437, 480)\n",
    "    color = (255, 0, 0)\n",
    "    thickness = 1\n",
    "    \n",
    "    # Name Box\n",
    "    rectStart2 =  (203, 40)\n",
    "    rectEnd2 = (437, 70)\n",
    "    \n",
    "    # Mainstat + Rarity Box\n",
    "    rectStart3 =  (203, 100)\n",
    "    rectEnd3 = (323, 180)\n",
    "    \n",
    "    # Image Box\n",
    "    rectStart4 =  (323, 70)\n",
    "    rectEnd4 = (437, 180)\n",
    "    \n",
    "    # Level + Substats Box\n",
    "    rectStart5 =  (203, 180)\n",
    "    rectEnd5 = (397, 310)\n",
    "    \n",
    "    while result:\n",
    "    \n",
    "        image = cv2.rectangle(image, rectStart1, rectEnd1, color, thickness)\n",
    "        image = cv2.rectangle(image, rectStart2, rectEnd2, color, thickness)\n",
    "        image = cv2.rectangle(image, rectStart3, rectEnd3, color, thickness)\n",
    "        image = cv2.rectangle(image, rectStart4, rectEnd4, color, thickness)\n",
    "        image = cv2.rectangle(image, rectStart5, rectEnd5, color, thickness)\n",
    "        # show the image in pop-up\n",
    "        cv2.imshow(\"preview\", image)\n",
    "        result, image = cam.read()\n",
    "    \n",
    "        #wait until a key is pressed\n",
    "        key = cv2.waitKey(20)\n",
    "        \n",
    "        if key==27:\n",
    "            break\n",
    "        \n",
    "    # save the image\n",
    "    cv2.imwrite(\"MyImage.png\", image)\n",
    "    \n",
    "    print(image.shape)\n",
    "    \n",
    "    # remove pop-up\n",
    "    cv2.destroyWindow(\"preview\")\n",
    "        \n",
    "    cv2.imshow(\"MyImage\", image)\n",
    "        \n",
    "    # stop camera\n",
    "    cam.release()\n",
    "        \n",
    "    waitCheck = True\n",
    "    \n",
    "    while waitCheck:\n",
    "        key = cv2.waitKey(0)\n",
    "        \n",
    "        if key==27:\n",
    "        \n",
    "            # remove pop-up\n",
    "            cv2.destroyWindow(\"MyImage\")\n",
    "            break\n",
    "    return\n",
    "\n"
   ]
  },
  {
   "cell_type": "code",
   "execution_count": 12,
   "metadata": {},
   "outputs": [],
   "source": [
    "def splitPicture():\n",
    "    \n",
    "    image = cv2.imread(\"MyImage.png\")\n",
    "    \n",
    "    croppedArtifact = image[40:440, 203:437]\n",
    "    \n",
    "    croppedName = image[40:70, 203:437]\n",
    "    \n",
    "    # save the image\n",
    "    cv2.imwrite(\"CroppedName.png\", croppedName)\n",
    "    \n",
    "    croppedMainStat = image[100:180, 203:323]\n",
    "    \n",
    "    # save the image\n",
    "    cv2.imwrite(\"CroppedMainStat.png\", croppedMainStat)\n",
    "    \n",
    "    croppedImage = image[70:180, 323:437]\n",
    "    \n",
    "    # save the image\n",
    "    cv2.imwrite(\"CroppedImage.png\", croppedImage)\n",
    "    \n",
    "    croppedSubStats = image[180:310, 203:397]\n",
    "    \n",
    "    # save the image\n",
    "    cv2.imwrite(\"CroppedSubStats.png\", croppedSubStats)\n",
    "    \n",
    "    return\n",
    "    \n",
    "    "
   ]
  },
  {
   "cell_type": "code",
   "execution_count": 13,
   "metadata": {},
   "outputs": [
    {
     "name": "stdout",
     "output_type": "stream",
     "text": [
      "(480, 640, 3)\n"
     ]
    }
   ],
   "source": [
    "getPicture()\n",
    "\n",
    "splitPicture()"
   ]
  }
 ],
 "metadata": {
  "kernelspec": {
   "display_name": ".venv",
   "language": "python",
   "name": "python3"
  },
  "language_info": {
   "codemirror_mode": {
    "name": "ipython",
    "version": 3
   },
   "file_extension": ".py",
   "mimetype": "text/x-python",
   "name": "python",
   "nbconvert_exporter": "python",
   "pygments_lexer": "ipython3",
   "version": "3.12.3"
  }
 },
 "nbformat": 4,
 "nbformat_minor": 2
}
